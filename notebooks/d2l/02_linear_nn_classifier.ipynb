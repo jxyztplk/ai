{
 "cells": [
  {
   "cell_type": "code",
   "execution_count": null,
   "id": "35fa5919-57f3-4e29-ab38-7d85f45faf07",
   "metadata": {},
   "outputs": [],
   "source": [
    "%load_ext autoreload\n",
    "%autoreload 2"
   ]
  },
  {
   "cell_type": "code",
   "execution_count": null,
   "id": "ae8f5c22-8c9e-4bf4-8557-63181a7b3774",
   "metadata": {},
   "outputs": [],
   "source": [
    "import time\n",
    "import torch \n",
    "import torchvision\n",
    "from torchvision import transforms\n",
    "from torch import nn\n",
    "from torch.nn import functional as F\n",
    "from dll import utils\n",
    "from dll.models import Module\n",
    "from dll.dataloader import DataModule, FashionMNIST\n",
    "from dll.trainer import Trainer"
   ]
  },
  {
   "cell_type": "code",
   "execution_count": null,
   "id": "bb208291-399d-4fd2-97e0-73760de3cd4b",
   "metadata": {},
   "outputs": [],
   "source": [
    "class FashionMNIST(DataModule):  #@save\n",
    "    \"\"\"The Fashion-MNIST dataset.\"\"\"\n",
    "    def __init__(self, batch_size=64, resize=(28, 28)):\n",
    "        super().__init__()\n",
    "        self.save_hyperparameters()\n",
    "        trans = transforms.Compose([transforms.Resize(resize),\n",
    "                                    transforms.ToTensor()])\n",
    "        self.train = torchvision.datasets.FashionMNIST(\n",
    "            root=self.root, train=True, transform=trans, download=True)\n",
    "        self.val = torchvision.datasets.FashionMNIST(\n",
    "            root=self.root, train=False, transform=trans, download=True)"
   ]
  },
  {
   "cell_type": "code",
   "execution_count": null,
   "id": "e975a071-f926-431e-af2f-d2d620dfa53c",
   "metadata": {},
   "outputs": [],
   "source": [
    "data = FashionMNIST(resize=(32, 32))\n",
    "len(data.train), len(data.val)"
   ]
  },
  {
   "cell_type": "code",
   "execution_count": null,
   "id": "a8ded092-7ca5-4452-abe5-a811e98ee109",
   "metadata": {},
   "outputs": [],
   "source": [
    "data.train[0][0].shape"
   ]
  },
  {
   "cell_type": "code",
   "execution_count": null,
   "id": "821af37a-44de-433d-8a99-cd3486589c93",
   "metadata": {},
   "outputs": [],
   "source": [
    "@utils.add_to_class(FashionMNIST)\n",
    "def text_labels(self, indices):\n",
    "    \"\"\"Return text labels.\"\"\"\n",
    "    labels = ['t-shirt', 'trouser', 'pullover', 'dress', 'coat',\n",
    "              'sandal', 'shirt', 'sneaker', 'bag', 'ankle boot']\n",
    "    return [labels[int(i)] for i in indices]"
   ]
  },
  {
   "cell_type": "code",
   "execution_count": null,
   "id": "aac93c92-2d42-4e6b-a395-0cbd42d2a92e",
   "metadata": {},
   "outputs": [],
   "source": [
    "@utils.add_to_class(FashionMNIST)\n",
    "def get_dataloader(self, train):\n",
    "    data = self.train if train else self.val\n",
    "    return torch.utils.data.DataLoader(data, self.batch_size, shuffle=train,\n",
    "                                      num_workers=self.num_workers)"
   ]
  },
  {
   "cell_type": "code",
   "execution_count": null,
   "id": "fb6b491b-480f-4835-8f17-067ae6e7e7de",
   "metadata": {},
   "outputs": [],
   "source": [
    "X, y = next(iter(data.train_dataloader()))\n",
    "print(X.shape, y.shape, y.dtype)"
   ]
  },
  {
   "cell_type": "code",
   "execution_count": null,
   "id": "d08172fa-2fd3-40c5-bc39-6ed87356f874",
   "metadata": {},
   "outputs": [],
   "source": [
    "@utils.add_to_class(FashionMNIST)\n",
    "def visualize(self, batch, nrows=1, ncols=8, labels=[]):\n",
    "    X, y = batch\n",
    "    if not labels:\n",
    "        labels = self.text_labels(y)\n",
    "    utils.show_images(X.squeeze(1), nrows, ncols, titles=labels)\n",
    "\n",
    "batch = next(iter(data.val_dataloader()))\n",
    "data.visualize(batch)"
   ]
  },
  {
   "cell_type": "code",
   "execution_count": null,
   "id": "a707ab56-7480-4896-9134-6cbd64186103",
   "metadata": {},
   "outputs": [],
   "source": [
    "class Classifier(Module):\n",
    "    \"\"\"The base class of classification models.\"\"\"\n",
    "    def validation_step(self, batch):\n",
    "        Y_hat = self(*batch[:-1])\n",
    "        self.plot('loss', self.loss(Y_hat, batch[-1]), train=False)\n",
    "        self.plot('acc', self.accuracy(Y_hat, batch[-1]), train=False)"
   ]
  },
  {
   "cell_type": "code",
   "execution_count": null,
   "id": "82d4a06d-2afc-4573-a04a-de4fd1877bc8",
   "metadata": {},
   "outputs": [],
   "source": [
    "@utils.add_to_class(Module)\n",
    "def configure_optimizers(self):\n",
    "    return torch.optim.SGD(self.parameters(), lr=self.lr)"
   ]
  },
  {
   "cell_type": "code",
   "execution_count": null,
   "id": "98d4de39-5407-4c71-bdcb-19ea84363780",
   "metadata": {},
   "outputs": [],
   "source": [
    "@utils.add_to_class(Classifier)\n",
    "def accuracy(self, Y_hat, Y, averaged=True):\n",
    "    \"\"\"Compute the number of correct predictions.\"\"\"\n",
    "    Y_hat = Y_hat.reshape((-1, Y_hat.shape[-1]))\n",
    "    preds = Y_hat.argmax(axis=1).type(Y.dtype)\n",
    "    compare = (preds == Y.reshape(-1)).type(torch.float32)\n",
    "    return compare.mean() if averaged else compare"
   ]
  },
  {
   "cell_type": "code",
   "execution_count": null,
   "id": "1ffe879a-dbaf-43e9-9563-f8dc1812f44c",
   "metadata": {},
   "outputs": [],
   "source": [
    "def softmax(X):\n",
    "    X_exp = torch.exp(X)\n",
    "    partition = X_exp.sum(1, keepdims=True)\n",
    "    return X_exp / partition"
   ]
  },
  {
   "cell_type": "code",
   "execution_count": null,
   "id": "fd32e5c9-bbc3-48d2-bc66-23a6dbdcff4e",
   "metadata": {},
   "outputs": [],
   "source": [
    "class SoftmaxRegressionScratch(Classifier):\n",
    "    def __init__(self, num_inputs, num_outputs, lr, sigma=0.01):\n",
    "        super().__init__()\n",
    "        self.save_hyperparameters()\n",
    "        self.W = torch.normal(0, sigma, size=(num_inputs, num_outputs),\n",
    "                                              requires_grad=True)\n",
    "        self.b = torch.zeros(num_outputs, requires_grad=True)\n",
    "\n",
    "    def parameters(self):\n",
    "        return [self.W, self.b]"
   ]
  },
  {
   "cell_type": "code",
   "execution_count": null,
   "id": "3c09061f-b46e-4ac3-9446-4846953e4e0b",
   "metadata": {},
   "outputs": [],
   "source": [
    "@utils.add_to_class(SoftmaxRegressionScratch)\n",
    "def forward(self, X):\n",
    "    X = X.reshape((-1, self.W.shape[0]))\n",
    "    return softmax(torch.matmul(X, self.W) + self.b)"
   ]
  },
  {
   "cell_type": "code",
   "execution_count": null,
   "id": "e745be89-ca17-43ce-85eb-b002bf2ad189",
   "metadata": {},
   "outputs": [],
   "source": [
    "def cross_entropy(y_hat, y):\n",
    "    return -torch.log(y_hat[list(range(len(y_hat))), y]).mean()"
   ]
  },
  {
   "cell_type": "code",
   "execution_count": null,
   "id": "5fa7bae3-cff1-43df-a826-6a0a737396f3",
   "metadata": {},
   "outputs": [],
   "source": [
    "@utils.add_to_class(SoftmaxRegressionScratch)\n",
    "def loss(self, y_hat, y):\n",
    "    return cross_entropy(y_hat, y)"
   ]
  },
  {
   "cell_type": "code",
   "execution_count": null,
   "id": "29bd1a95-7d1f-4de1-bef1-63974be82094",
   "metadata": {},
   "outputs": [],
   "source": [
    "data = FashionMNIST(batch_size=256)\n",
    "model = SoftmaxRegressionScratch(num_inputs=784, num_outputs=10, lr=0.01)\n",
    "trainer = Trainer(max_epochs=10)\n",
    "trainer.fit(model, data)"
   ]
  },
  {
   "cell_type": "code",
   "execution_count": null,
   "id": "42dced99-4d33-4e50-a266-27d26f881fd4",
   "metadata": {},
   "outputs": [],
   "source": [
    "X, y = next(iter(data.val_dataloader()))\n",
    "preds = model(X).argmax(axis=1)\n",
    "preds.shape"
   ]
  },
  {
   "cell_type": "code",
   "execution_count": null,
   "id": "7210fd40-4ceb-4b1a-8518-83d2212b9dee",
   "metadata": {},
   "outputs": [],
   "source": [
    "wrong = preds.type(y.dtype) != y\n",
    "X, y, preds = X[wrong], y[wrong], preds[wrong]\n",
    "labels = [a+'\\n'+b for a, b in zip(\n",
    "    data.text_labels(y), data.text_labels(preds))]\n",
    "data.visualize([X, y], labels=labels)"
   ]
  },
  {
   "cell_type": "markdown",
   "id": "d5657dae-1506-4ad8-a8fe-e9a8bde45a11",
   "metadata": {},
   "source": [
    "## Concise implementation"
   ]
  },
  {
   "cell_type": "code",
   "execution_count": null,
   "id": "c06c17ef-5217-4c95-9b59-0570cb60bd9f",
   "metadata": {},
   "outputs": [],
   "source": [
    "class SoftmaxRegression(Classifier):\n",
    "    \"\"\"The softmax regression model.\"\"\"\n",
    "    def __init__(self, num_outputs, lr):\n",
    "        super().__init__()\n",
    "        self.save_hyperparameters()\n",
    "        self.net = nn.Sequential(nn.Flatten(), nn.LazyLinear(num_outputs))\n",
    "\n",
    "    def forward(self, X):\n",
    "        return self.net(X)"
   ]
  },
  {
   "cell_type": "code",
   "execution_count": null,
   "id": "c6dfafee-a751-495d-8f1d-8fd2ac8c5af5",
   "metadata": {},
   "outputs": [],
   "source": [
    "@utils.add_to_class(Classifier)\n",
    "def loss(self, Y_hat, Y, averaged=True):\n",
    "    Y_hat = Y_hat.reshape((-1, Y_hat.shape[-1]))\n",
    "    Y = Y.reshape((-1,))\n",
    "    return F.cross_entropy(\n",
    "        Y_hat, Y, reduction='mean' if averaged else 'none')"
   ]
  },
  {
   "cell_type": "code",
   "execution_count": null,
   "id": "a020929f-c940-48b2-947a-2c3eb244acc0",
   "metadata": {},
   "outputs": [],
   "source": [
    "data = FashionMNIST(batch_size=256)\n",
    "model = SoftmaxRegression(num_outputs=10, lr=0.1)\n",
    "trainer = Trainer(max_epochs=10)\n",
    "trainer.fit(model, data)"
   ]
  },
  {
   "cell_type": "code",
   "execution_count": null,
   "id": "b3fd4229-aa53-4028-989c-728c4b8fa967",
   "metadata": {},
   "outputs": [],
   "source": []
  }
 ],
 "metadata": {
  "kernelspec": {
   "display_name": "ai_env",
   "language": "python",
   "name": "ai_env"
  },
  "language_info": {
   "codemirror_mode": {
    "name": "ipython",
    "version": 3
   },
   "file_extension": ".py",
   "mimetype": "text/x-python",
   "name": "python",
   "nbconvert_exporter": "python",
   "pygments_lexer": "ipython3",
   "version": "3.12.1"
  }
 },
 "nbformat": 4,
 "nbformat_minor": 5
}
