{
 "cells": [
  {
   "cell_type": "code",
   "execution_count": null,
   "id": "3d3295b0-9716-4e20-8c95-49f9a5b763e5",
   "metadata": {},
   "outputs": [],
   "source": [
    "%load_ext autoreload\n",
    "%autoreload 2"
   ]
  },
  {
   "cell_type": "code",
   "execution_count": null,
   "id": "4112b4c2-2595-43c3-a951-379901523d94",
   "metadata": {},
   "outputs": [],
   "source": [
    "import torch\n",
    "from torch import nn\n",
    "from torch.nn import functional as F\n",
    "\n",
    "from dll import utils\n",
    "from dll.dataloader import FashionMNIST\n",
    "from dll.models import Classifier\n",
    "from dll.trainer import Trainer"
   ]
  },
  {
   "cell_type": "markdown",
   "id": "6d28c80f-ae39-4e03-8b71-1a282889256a",
   "metadata": {},
   "source": [
    "# Multilayer Perceptrons"
   ]
  },
  {
   "cell_type": "code",
   "execution_count": null,
   "id": "2fadd76c-006d-4df7-b074-8491b4af4b16",
   "metadata": {},
   "outputs": [],
   "source": [
    "class MLPScratch(Classifier):\n",
    "    def __init__(self, num_inputs, num_outputs, num_hiddens, lr, sigma=0.01):\n",
    "        super().__init__()\n",
    "        self.save_hyperparameters()\n",
    "        self.W1 = nn.Parameter(torch.randn(num_inputs, num_hiddens) * sigma)\n",
    "        self.b1 = nn.Parameter(torch.zeros(num_hiddens))\n",
    "        self.W2 = nn.Parameter(torch.randn(num_hiddens, num_outputs) * sigma)\n",
    "        self.b2 = nn.Parameter(torch.zeros(num_outputs))"
   ]
  },
  {
   "cell_type": "code",
   "execution_count": null,
   "id": "cf6e5d72-ab51-4c01-ae47-071c569f394e",
   "metadata": {},
   "outputs": [],
   "source": [
    "def relu(X):\n",
    "    a = torch.zeros_like(X)\n",
    "    return torch.max(X, a)"
   ]
  },
  {
   "cell_type": "code",
   "execution_count": null,
   "id": "1ce01a1f-bf0c-4a04-b45d-735988686b80",
   "metadata": {},
   "outputs": [],
   "source": [
    "@utils.add_to_class(MLPScratch)\n",
    "def forward(self, X):\n",
    "    X = X.reshape((-1, self.num_inputs))\n",
    "    H = relu(torch.matmul(X, self.W1) + self.b1)\n",
    "    return torch.matmul(H, self.W2) + self.b2"
   ]
  },
  {
   "cell_type": "code",
   "execution_count": null,
   "id": "91384071-23ea-45f0-934b-ad9b005d9d82",
   "metadata": {},
   "outputs": [],
   "source": [
    "model = MLPScratch(num_inputs=784, num_outputs=10, num_hiddens=256, lr=0.1)\n",
    "data = FashionMNIST(batch_size=256)\n",
    "trainer = Trainer(max_epochs=10)\n",
    "trainer.fit(model, data)"
   ]
  },
  {
   "cell_type": "markdown",
   "id": "ab620d93-05da-4acc-afda-a97d1ef2ab47",
   "metadata": {},
   "source": [
    "## Consise implementaion"
   ]
  },
  {
   "cell_type": "code",
   "execution_count": null,
   "id": "e87a8b76-0b49-4541-8d7d-e0644a216274",
   "metadata": {},
   "outputs": [],
   "source": [
    "class MLP(Classifier):\n",
    "    def __init__(self, num_outputs, num_hiddens, lr):\n",
    "        super().__init__()\n",
    "        self.save_hyperparameters()\n",
    "        self.net = nn.Sequential(nn.Flatten(), nn.LazyLinear(num_hiddens),\n",
    "                                nn.ReLU(), nn.LazyLinear(num_outputs))"
   ]
  },
  {
   "cell_type": "code",
   "execution_count": null,
   "id": "99c13b64-364d-4cda-9b6d-c8ad1f036221",
   "metadata": {},
   "outputs": [],
   "source": [
    "model = MLP(num_outputs=10, num_hiddens=256, lr=0.01)\n",
    "trainer.fit(model, data)"
   ]
  },
  {
   "cell_type": "code",
   "execution_count": null,
   "id": "2a92a6a8-fb0b-48f5-b86a-82e66ee724d7",
   "metadata": {},
   "outputs": [],
   "source": [
    "def dropout_layer(X, dropout):\n",
    "    assert 0 <= dropout <=1\n",
    "    if dropout == 1: return torch.zeros_like(X)\n",
    "    mask = (torch.rand(X.shape) > dropout).float()\n",
    "    return mask * X / (1.0 - dropout)"
   ]
  },
  {
   "cell_type": "code",
   "execution_count": null,
   "id": "bb6e90d5-4931-4793-807a-99db009823f2",
   "metadata": {},
   "outputs": [],
   "source": [
    "class DropoutMLPScratch(Classifier):\n",
    "    def __init__(self, num_outputs, num_hiddens_1, num_hiddens_2,\n",
    "                dropout_1, dropout_2, lr):\n",
    "        super().__init__()\n",
    "        self.save_hyperparameters()\n",
    "        self.lin1 = nn.LazyLinear(num_hiddens_1)\n",
    "        self.lin2 = nn.LazyLinear(num_hiddens_2)\n",
    "        self.lin3 = nn.LazyLinear(num_outputs)\n",
    "        self.relu = nn.ReLU()\n",
    "\n",
    "    def forward(self, X):\n",
    "        H1 = self.relu(self.lin1(X.reshape((X.shape[0], -1))))\n",
    "        if self.training:\n",
    "            H1 = dropout_layer(H1, self.dropout_1)\n",
    "        H2 = self.relu(self.lin2(H1))\n",
    "        if self.training:\n",
    "            H2 = dropout_layer(H2, self.dropout_2)\n",
    "        return self.lin3(H2)"
   ]
  },
  {
   "cell_type": "code",
   "execution_count": null,
   "id": "2614f397-0fe1-41c4-992b-689f17a451c7",
   "metadata": {},
   "outputs": [],
   "source": [
    "hparams = {'num_outputs': 10, 'num_hiddens_1': 256, 'num_hiddens_2': 256,\n",
    "           'dropout_1': 0.5, 'dropout_2': 0.5, 'lr': 0.01}\n",
    "model = DropoutMLPScratch(**hparams)\n",
    "data = FashionMNIST(batch_size=256)\n",
    "trainer = Trainer(max_epochs=10)\n",
    "trainer.fit(model, data)"
   ]
  },
  {
   "cell_type": "code",
   "execution_count": null,
   "id": "b707f623-57d9-4b2f-ab2b-8062a73e0c36",
   "metadata": {},
   "outputs": [],
   "source": [
    "class DropoutMLP(Classifier):\n",
    "    def __init__(self, num_outputs, num_hiddens_1, num_hiddens_2, \n",
    "                 dropout_1, dropout_2, lr):\n",
    "        super().__init__()\n",
    "        self.save_hyperparameters()\n",
    "        self.net = nn.Sequential(\n",
    "            nn.Flatten(), nn.LazyLinear(num_hiddens_1), nn.ReLU(),\n",
    "            nn.Dropout(dropout_1), nn.LazyLinear(num_hiddens_2), nn.ReLU(),\n",
    "            nn.Dropout(dropout_2), nn.LazyLinear(num_outputs))"
   ]
  },
  {
   "cell_type": "code",
   "execution_count": null,
   "id": "319a08a7-c6bd-422f-8aa4-9f19c964073d",
   "metadata": {},
   "outputs": [],
   "source": [
    "model = DropoutMLP(**hparams)\n",
    "trainer.fit(model, data)"
   ]
  },
  {
   "cell_type": "markdown",
   "id": "062dba02-3527-4f05-9769-164e8bdf7acf",
   "metadata": {},
   "source": [
    "## Kaggle: House Prices"
   ]
  },
  {
   "cell_type": "code",
   "execution_count": null,
   "id": "6487e97f-ea4c-48c7-9281-c008a595b5a5",
   "metadata": {},
   "outputs": [],
   "source": []
  }
 ],
 "metadata": {
  "kernelspec": {
   "display_name": "ai_env",
   "language": "python",
   "name": "ai_env"
  },
  "language_info": {
   "codemirror_mode": {
    "name": "ipython",
    "version": 3
   },
   "file_extension": ".py",
   "mimetype": "text/x-python",
   "name": "python",
   "nbconvert_exporter": "python",
   "pygments_lexer": "ipython3",
   "version": "3.12.1"
  }
 },
 "nbformat": 4,
 "nbformat_minor": 5
}
